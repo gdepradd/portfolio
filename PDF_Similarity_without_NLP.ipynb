{
  "nbformat": 4,
  "nbformat_minor": 0,
  "metadata": {
    "colab": {
      "provenance": [],
      "authorship_tag": "ABX9TyM8+f3B1Xs61rARuSSbMAOU",
      "include_colab_link": true
    },
    "kernelspec": {
      "name": "python3",
      "display_name": "Python 3"
    },
    "language_info": {
      "name": "python"
    }
  },
  "cells": [
    {
      "cell_type": "markdown",
      "metadata": {
        "id": "view-in-github",
        "colab_type": "text"
      },
      "source": [
        "<a href=\"https://colab.research.google.com/github/gdepradd/portfolio/blob/master/PDF_Similarity_without_NLP.ipynb\" target=\"_parent\"><img src=\"https://colab.research.google.com/assets/colab-badge.svg\" alt=\"Open In Colab\"/></a>"
      ]
    },
    {
      "cell_type": "code",
      "source": [
        "pip install PyPDF2"
      ],
      "metadata": {
        "colab": {
          "base_uri": "https://localhost:8080/"
        },
        "id": "Jfd8D_us51rS",
        "outputId": "fc783f7d-ba35-49ed-a0b3-e561134e77ae"
      },
      "execution_count": 2,
      "outputs": [
        {
          "output_type": "stream",
          "name": "stdout",
          "text": [
            "Collecting PyPDF2\n",
            "  Downloading pypdf2-3.0.1-py3-none-any.whl.metadata (6.8 kB)\n",
            "Downloading pypdf2-3.0.1-py3-none-any.whl (232 kB)\n",
            "\u001b[2K   \u001b[90m━━━━━━━━━━━━━━━━━━━━━━━━━━━━━━━━━━━━━━━━\u001b[0m \u001b[32m232.6/232.6 kB\u001b[0m \u001b[31m4.2 MB/s\u001b[0m eta \u001b[36m0:00:00\u001b[0m\n",
            "\u001b[?25hInstalling collected packages: PyPDF2\n",
            "Successfully installed PyPDF2-3.0.1\n"
          ]
        }
      ]
    },
    {
      "cell_type": "code",
      "source": [
        "import PyPDF2\n",
        "import os"
      ],
      "metadata": {
        "id": "5m7CHUnm0qWS"
      },
      "execution_count": 3,
      "outputs": []
    },
    {
      "cell_type": "code",
      "source": [
        "def read_pdf(file_path):\n",
        "    # Membaca teks dari file PDF\n",
        "    with open(file_path, 'rb') as file:\n",
        "        reader = PyPDF2.PdfReader(file)\n",
        "        text = \"\"\n",
        "        for page in reader.pages:\n",
        "            text += page.extract_text()\n",
        "    return text"
      ],
      "metadata": {
        "id": "cRB3P1bU5zHS"
      },
      "execution_count": 4,
      "outputs": []
    },
    {
      "cell_type": "code",
      "source": [
        "def split_into_sentences(text):\n",
        "    # Pisahkan teks menjadi kalimat berdasarkan tanda titik\n",
        "    sentences = text.split('.')\n",
        "\n",
        "    # Normalisasi: Trim spasi, ubah ke lowercase, dan hilangkan kalimat kosong\n",
        "    sentences = [sentence.strip().lower() for sentence in sentences if sentence.strip()]\n",
        "\n",
        "    return sentences"
      ],
      "metadata": {
        "id": "9a4GMz3V6Hmt"
      },
      "execution_count": 5,
      "outputs": []
    },
    {
      "source": [
        "def calculate_similarity_for_one_article(article_text, other_articles):\n",
        "    # Pisahkan kalimat-kalimat dari artikel utama\n",
        "    article_sentences = split_into_sentences(article_text)\n",
        "\n",
        "    total_sentences = len(article_sentences)\n",
        "    if total_sentences == 0:\n",
        "        return 0  # Hindari pembagian dengan nol jika artikel kosong\n",
        "\n",
        "    # Hitung jumlah similarity\n",
        "    similar_count = 0\n",
        "    for sentence in article_sentences:\n",
        "        # Cek kalimat ini ada di salah satu artikel lain atau tidak\n",
        "        if any(sentence in split_into_sentences(other_article) for other_article in other_articles):\n",
        "            similar_count += 1\n",
        "            break # Lanjut ke kalimat berikutnya jika sudah ditemukan kemiripan\n",
        "\n",
        "    # Hitung persentase kemiripan\n",
        "    similarity_percentage = (similar_count / total_sentences) * 100\n",
        "    return similarity_percentage\n",
        "\n",
        "def calculate_all_similarities(folder_path):\n",
        "    # Dapatkan semua file PDF dalam folder\n",
        "    pdf_files = [f for f in os.listdir(folder_path) if f.endswith('.pdf')]\n",
        "\n",
        "    # Baca semua artikel dari file PDF\n",
        "    articles_text = [read_pdf(os.path.join(folder_path, pdf)) for pdf in pdf_files]\n",
        "\n",
        "    # Simpan hasil similarity untuk tiap artikel\n",
        "    similarity_results = []\n",
        "\n",
        "    # Hitung similarity untuk setiap artikel dibandingkan dengan semua artikel lainnya\n",
        "    for i, article_text in enumerate(articles_text):\n",
        "        other_articles = [articles_text[j] for j in range(len(articles_text)) if j != i]\n",
        "        similarity = calculate_similarity_for_one_article(article_text, other_articles)\n",
        "        similarity_results.append((pdf_files[i], similarity))\n",
        "\n",
        "    return similarity_results\n",
        "\n",
        "# Contoh Penggunaan\n",
        "folder_path = '/content/tes'\n",
        "# Hitung similarity antar semua artikel dalam folder\n",
        "similarity_results = calculate_all_similarities(folder_path)\n",
        "\n",
        "# Tampilkan hasil similarity per artikel dengan nama file\n",
        "for article, similarity in similarity_results:\n",
        "    print(f\"Similarity dari {article}: {similarity:.2f}%\") # Hasil yang lebih ringkas"
      ],
      "cell_type": "code",
      "metadata": {
        "colab": {
          "base_uri": "https://localhost:8080/"
        },
        "id": "8bGRDGqaC3Je",
        "outputId": "8cf2c4b6-bcec-415b-cb86-46a6b5e0e285"
      },
      "execution_count": 6,
      "outputs": [
        {
          "output_type": "stream",
          "name": "stdout",
          "text": [
            "Similarity dari tes5.pdf: 0.00%\n",
            "Similarity dari tes3.pdf: 50.00%\n",
            "Similarity dari tes4.pdf: 33.33%\n",
            "Similarity dari tes1.pdf: 50.00%\n",
            "Similarity dari tes2.pdf: 50.00%\n"
          ]
        }
      ]
    },
    {
      "cell_type": "code",
      "source": [],
      "metadata": {
        "id": "CeqdFHka8f_g"
      },
      "execution_count": null,
      "outputs": []
    }
  ]
}